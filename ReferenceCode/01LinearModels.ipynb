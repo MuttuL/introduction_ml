{
 "cells": [
  {
   "cell_type": "markdown",
   "metadata": {},
   "source": [
    "### Linear Models\n",
    "- Linear Regression https://www.cs.toronto.edu/~rgrosse/courses/csc321_2018/readings/L02%20Linear%20Regression.pdf\n",
    "- Don't worry about the maths, the focus is on identifying the key results and implimenting them programmatically\n",
    "- This is not a linear algebra or calculus class, we will hack!!!"
   ]
  },
  {
   "cell_type": "markdown",
   "metadata": {},
   "source": [
    "Write the regression problem in matrix form and then solve using normal equations. On the software side we will need to be able to have containers for \n",
    "\n",
    "- **Design Matrix: X**\n",
    "- **parameters/weights: $\\beta$** \n",
    "- **target variable: y**\n",
    "\n",
    "This is a good time to introduce a numerical computing framework, numpy. This let's us do linear algebra operations which are key to many ML/DL tasks. Also provides us with abstractions that can help us impliment results straight out of a textbook. On the downside numpy matrices can't use gpu, hence while working with neural networks we will need frameworks that do linear algebra and can be use gpu acceleration\n",
    "\n",
    "**What we need to code?**\n",
    "- The raw data will be present in flat files, we need to read that\n",
    "- Store them in to arrays\n",
    "- Create y, $\\beta$ and X\n",
    "- Solve for $\\beta$"
   ]
  },
  {
   "cell_type": "code",
   "execution_count": 1,
   "metadata": {},
   "outputs": [],
   "source": [
    "import pandas as pd\n",
    "data=pd.read_csv(\"data/regression.csv\")"
   ]
  },
  {
   "cell_type": "code",
   "execution_count": 2,
   "metadata": {},
   "outputs": [
    {
     "data": {
      "text/html": [
       "<div>\n",
       "<style scoped>\n",
       "    .dataframe tbody tr th:only-of-type {\n",
       "        vertical-align: middle;\n",
       "    }\n",
       "\n",
       "    .dataframe tbody tr th {\n",
       "        vertical-align: top;\n",
       "    }\n",
       "\n",
       "    .dataframe thead th {\n",
       "        text-align: right;\n",
       "    }\n",
       "</style>\n",
       "<table border=\"1\" class=\"dataframe\">\n",
       "  <thead>\n",
       "    <tr style=\"text-align: right;\">\n",
       "      <th></th>\n",
       "      <th>mpg</th>\n",
       "      <th>cylinders</th>\n",
       "      <th>displacement</th>\n",
       "      <th>horsepower</th>\n",
       "      <th>weight</th>\n",
       "      <th>acceleration</th>\n",
       "      <th>year</th>\n",
       "      <th>origin</th>\n",
       "    </tr>\n",
       "  </thead>\n",
       "  <tbody>\n",
       "    <tr>\n",
       "      <th>0</th>\n",
       "      <td>18.0</td>\n",
       "      <td>8.0</td>\n",
       "      <td>307.0</td>\n",
       "      <td>130.0</td>\n",
       "      <td>3504.0</td>\n",
       "      <td>12.0</td>\n",
       "      <td>70.0</td>\n",
       "      <td>1.0</td>\n",
       "    </tr>\n",
       "    <tr>\n",
       "      <th>1</th>\n",
       "      <td>15.0</td>\n",
       "      <td>8.0</td>\n",
       "      <td>350.0</td>\n",
       "      <td>165.0</td>\n",
       "      <td>3693.0</td>\n",
       "      <td>11.5</td>\n",
       "      <td>70.0</td>\n",
       "      <td>1.0</td>\n",
       "    </tr>\n",
       "  </tbody>\n",
       "</table>\n",
       "</div>"
      ],
      "text/plain": [
       "    mpg  cylinders  displacement  horsepower  weight  acceleration  year  \\\n",
       "0  18.0        8.0         307.0       130.0  3504.0          12.0  70.0   \n",
       "1  15.0        8.0         350.0       165.0  3693.0          11.5  70.0   \n",
       "\n",
       "   origin  \n",
       "0     1.0  \n",
       "1     1.0  "
      ]
     },
     "execution_count": 2,
     "metadata": {},
     "output_type": "execute_result"
    }
   ],
   "source": [
    "data.head(2)"
   ]
  },
  {
   "cell_type": "code",
   "execution_count": 3,
   "metadata": {},
   "outputs": [],
   "source": [
    "y=data['mpg']\n",
    "X=data[['cylinders','displacement']].copy()"
   ]
  },
  {
   "cell_type": "code",
   "execution_count": 4,
   "metadata": {},
   "outputs": [
    {
     "data": {
      "text/html": [
       "<div>\n",
       "<style scoped>\n",
       "    .dataframe tbody tr th:only-of-type {\n",
       "        vertical-align: middle;\n",
       "    }\n",
       "\n",
       "    .dataframe tbody tr th {\n",
       "        vertical-align: top;\n",
       "    }\n",
       "\n",
       "    .dataframe thead th {\n",
       "        text-align: right;\n",
       "    }\n",
       "</style>\n",
       "<table border=\"1\" class=\"dataframe\">\n",
       "  <thead>\n",
       "    <tr style=\"text-align: right;\">\n",
       "      <th></th>\n",
       "      <th>cylinders</th>\n",
       "      <th>displacement</th>\n",
       "    </tr>\n",
       "  </thead>\n",
       "  <tbody>\n",
       "    <tr>\n",
       "      <th>0</th>\n",
       "      <td>8.0</td>\n",
       "      <td>307.0</td>\n",
       "    </tr>\n",
       "    <tr>\n",
       "      <th>1</th>\n",
       "      <td>8.0</td>\n",
       "      <td>350.0</td>\n",
       "    </tr>\n",
       "    <tr>\n",
       "      <th>2</th>\n",
       "      <td>8.0</td>\n",
       "      <td>318.0</td>\n",
       "    </tr>\n",
       "    <tr>\n",
       "      <th>3</th>\n",
       "      <td>8.0</td>\n",
       "      <td>304.0</td>\n",
       "    </tr>\n",
       "    <tr>\n",
       "      <th>4</th>\n",
       "      <td>8.0</td>\n",
       "      <td>302.0</td>\n",
       "    </tr>\n",
       "  </tbody>\n",
       "</table>\n",
       "</div>"
      ],
      "text/plain": [
       "   cylinders  displacement\n",
       "0        8.0         307.0\n",
       "1        8.0         350.0\n",
       "2        8.0         318.0\n",
       "3        8.0         304.0\n",
       "4        8.0         302.0"
      ]
     },
     "execution_count": 4,
     "metadata": {},
     "output_type": "execute_result"
    }
   ],
   "source": [
    "X.head()"
   ]
  },
  {
   "cell_type": "code",
   "execution_count": 5,
   "metadata": {},
   "outputs": [],
   "source": [
    "X['intercept']=1"
   ]
  },
  {
   "cell_type": "code",
   "execution_count": 6,
   "metadata": {},
   "outputs": [],
   "source": [
    "X=X[['intercept','cylinders','displacement']]"
   ]
  },
  {
   "cell_type": "code",
   "execution_count": 7,
   "metadata": {},
   "outputs": [],
   "source": [
    "X=X.values"
   ]
  },
  {
   "cell_type": "code",
   "execution_count": 8,
   "metadata": {},
   "outputs": [],
   "source": [
    "y=y.values"
   ]
  },
  {
   "cell_type": "markdown",
   "metadata": {},
   "source": [
    "Refer to the result 20, (https://www.cs.toronto.edu/~rgrosse/courses/csc321_2018/readings/L02%20Linear%20Regression.pdf), the parameters of the model are going to be:\n",
    "$\\beta=Inv((X^TX))X^Ty$"
   ]
  },
  {
   "cell_type": "code",
   "execution_count": 9,
   "metadata": {},
   "outputs": [],
   "source": [
    "import numpy as np"
   ]
  },
  {
   "cell_type": "code",
   "execution_count": 10,
   "metadata": {},
   "outputs": [],
   "source": [
    "def train(X,y):\n",
    "    A=np.linalg.inv(np.matmul(np.transpose(X),X))\n",
    "    B=np.matmul(np.transpose(X),y)\n",
    "    return np.matmul(A,B)"
   ]
  },
  {
   "cell_type": "code",
   "execution_count": 11,
   "metadata": {},
   "outputs": [
    {
     "data": {
      "text/plain": [
       "array([36.44476943, -0.51735734, -0.05225841])"
      ]
     },
     "execution_count": 11,
     "metadata": {},
     "output_type": "execute_result"
    }
   ],
   "source": [
    "train(X,y)"
   ]
  },
  {
   "cell_type": "markdown",
   "metadata": {},
   "source": [
    "What we have seen now is an example of closed form solution, very similar to saying that we have a formula to minimise the loss function. As we, progress further we will see that many times we may not be able to solve a loss minimization problem by finding a closed form solution. In such scenarios we can use a numerical procedure to calculate the minimum loss and the parameter values that result in such a loss value.\n",
    "\n",
    "One of the commonly used techniques is called gradient descent. First let's understand how gradient descent works using an example of a simple example of a polynomial minimization\n",
    "\n",
    "Assume I wanted to solve the following problem:\n",
    "**$argmin_x f(x) = x^2+4x+18$**\n",
    "\n",
    "The gradient descent algorithm works as below:\n",
    "$X_{new} := X_{old}-\\eta\\frac{d(f(x)}{d(x)}$"
   ]
  },
  {
   "cell_type": "code",
   "execution_count": 12,
   "metadata": {
    "scrolled": true
   },
   "outputs": [
    {
     "name": "stdout",
     "output_type": "stream",
     "text": [
      "Value of function is 17.8416, value of gradient is 4, value of X is -0.04\n",
      "Value of function is 17.68947264, value of gradient is 3.92, value of X is -0.07919999999999999\n",
      "Value of function is 17.543369523456, value of gradient is 3.8416, value of X is -0.117616\n",
      "Value of function is 17.403052090327144, value of gradient is 3.764768, value of X is -0.15526368000000002\n",
      "Value of function is 17.268291227550186, value of gradient is 3.68947264, value of X is -0.1921584064\n"
     ]
    }
   ],
   "source": [
    "def grad(x):\n",
    "    return 2*x+4\n",
    "def f(x):\n",
    "    return x**2+4*x+18\n",
    "X=0\n",
    "eta=0.01\n",
    "for i in range(5):\n",
    "    gradient=grad(X)\n",
    "    Xnew=X-eta*gradient\n",
    "    X=Xnew\n",
    "    func=f(X)\n",
    "    print(f\"Value of function is {func}, value of gradient is {gradient}, value of X is {X}\")\n",
    "    "
   ]
  },
  {
   "cell_type": "code",
   "execution_count": 13,
   "metadata": {},
   "outputs": [],
   "source": [
    "class GradientDescent():\n",
    "    def __init__(self,grad,f):\n",
    "        self.grad=grad\n",
    "        self.f=f\n",
    "    def estimate(self,eta,n_iter,x_0):\n",
    "        x=x_0\n",
    "        for i in range(n_iter):\n",
    "            gradient=self.grad(x)\n",
    "            x_new=x-eta*gradient\n",
    "            x=x_new\n",
    "        result={'function_value':self.f(x),'parameter_value':x,'gradient_value':self.grad(x)}\n",
    "        return result"
   ]
  },
  {
   "cell_type": "code",
   "execution_count": 14,
   "metadata": {},
   "outputs": [],
   "source": [
    "gradient_descent=GradientDescent(grad,f)"
   ]
  },
  {
   "cell_type": "code",
   "execution_count": 15,
   "metadata": {},
   "outputs": [
    {
     "data": {
      "text/plain": [
       "{'function_value': 14.0,\n",
       " 'parameter_value': -1.9999999966340651,\n",
       " 'gradient_value': 6.731869728326956e-09}"
      ]
     },
     "execution_count": 15,
     "metadata": {},
     "output_type": "execute_result"
    }
   ],
   "source": [
    "gradient_descent.estimate(eta=0.01,n_iter=1000,x_0=0)"
   ]
  },
  {
   "cell_type": "markdown",
   "metadata": {},
   "source": [
    "Let's apply gradient descent to solve the parameter estimation problem for linear regression, result 21 (https://www.cs.toronto.edu/~rgrosse/courses/csc321_2018/readings/L02%20Linear%20Regression.pdf) illustrates how this can be done:\n",
    "\n",
    "Gradient of RSS=$X^T(XW-y)$\n",
    "So, the update rule will be:\n",
    "- $W_{new}=W_{old}-\\eta X^T(XW_{old}-y)$\n",
    "\n",
    "Clearly we will need to initialize the $W$ matrix, we will do this initially by making all the entries as zeros"
   ]
  },
  {
   "cell_type": "code",
   "execution_count": 16,
   "metadata": {},
   "outputs": [],
   "source": [
    "class LinearRegression():\n",
    "    def __init__(self,X,y):\n",
    "        self.X=X\n",
    "        self.y=y\n",
    "        self.w=np.zeros((X.shape[1],))\n",
    "    def _gradient(self,X,W,y):\n",
    "        A=np.transpose(X)\n",
    "        B=np.matmul(X,W)-y\n",
    "        return np.matmul(A,B)\n",
    "    def _fit(self,n_iter,eta):\n",
    "        rss=[]\n",
    "        grads=[]\n",
    "        w=self.w\n",
    "        for i in range(n_iter):\n",
    "            iterations=i\n",
    "            grad=self._gradient(self.X,w,self.y)\n",
    "            w_new=w-(eta)*grad\n",
    "            w=w_new\n",
    "            rss.append(((np.matmul(X,w)-y)**2).mean())\n",
    "            grads.append(grad)\n",
    "            if i>2:\n",
    "                if abs(rss[i]-rss[i-1])<0.00000001:\n",
    "                    break\n",
    "        results={'parameters':w}\n",
    "        return results,rss,grads,iterations\n",
    "    def fit(self,n_iter,eta):\n",
    "        eta=np.array(eta)\n",
    "        results,rss,grads,iterations=self._fit(n_iter,eta)\n",
    "        self.results=results\n",
    "        self.rss=rss\n",
    "        self.grads=grads\n",
    "        self.iter=iterations\n",
    "        return results"
   ]
  },
  {
   "cell_type": "code",
   "execution_count": 17,
   "metadata": {},
   "outputs": [],
   "source": [
    "X=data[['cylinders']].copy()\n",
    "X['intercept']=1\n",
    "X=X[['intercept','cylinders']]\n",
    "X=X.values\n",
    "y=data['mpg']\n",
    "y=y.values"
   ]
  },
  {
   "cell_type": "code",
   "execution_count": 18,
   "metadata": {},
   "outputs": [],
   "source": [
    "reg=LinearRegression(X,y)"
   ]
  },
  {
   "cell_type": "code",
   "execution_count": 19,
   "metadata": {},
   "outputs": [
    {
     "data": {
      "text/plain": [
       "{'parameters': array([42.94792539, -3.56264961])}"
      ]
     },
     "execution_count": 19,
     "metadata": {},
     "output_type": "execute_result"
    }
   ],
   "source": [
    "reg.fit(n_iter=1000,eta=[0.001,0.0001])"
   ]
  },
  {
   "cell_type": "code",
   "execution_count": 20,
   "metadata": {},
   "outputs": [
    {
     "data": {
      "text/plain": [
       "367"
      ]
     },
     "execution_count": 20,
     "metadata": {},
     "output_type": "execute_result"
    }
   ],
   "source": [
    "reg.iter"
   ]
  },
  {
   "cell_type": "code",
   "execution_count": 21,
   "metadata": {},
   "outputs": [
    {
     "data": {
      "text/plain": [
       "array([42.9493135 , -3.56288658])"
      ]
     },
     "execution_count": 21,
     "metadata": {},
     "output_type": "execute_result"
    }
   ],
   "source": [
    "train(X,y)"
   ]
  },
  {
   "cell_type": "code",
   "execution_count": 22,
   "metadata": {},
   "outputs": [],
   "source": [
    "import matplotlib.pyplot as plt\n",
    "%matplotlib inline"
   ]
  },
  {
   "cell_type": "code",
   "execution_count": 23,
   "metadata": {},
   "outputs": [
    {
     "data": {
      "text/plain": [
       "[<matplotlib.lines.Line2D at 0x11a852e90>]"
      ]
     },
     "execution_count": 23,
     "metadata": {},
     "output_type": "execute_result"
    },
    {
     "data": {
      "image/png": "[encoded data removed]",
      "text/plain": [
       "<Figure size 432x288 with 1 Axes>"
      ]
     },
     "metadata": {
      "needs_background": "light"
     },
     "output_type": "display_data"
    }
   ],
   "source": [
    "plt.plot(range(reg.iter+1),reg.rss,\"*\")"
   ]
  },
  {
   "cell_type": "markdown",
   "metadata": {},
   "source": [
    "One can obtain predictions and get a sense of model performance by using the wights learnt"
   ]
  },
  {
   "cell_type": "code",
   "execution_count": 24,
   "metadata": {},
   "outputs": [],
   "source": [
    "def predict_linear(X,w):\n",
    "    return np.matmul(X,w)\n",
    "preds=predict_linear(X,reg.fit(n_iter=1000,eta=[0.001,0.0001])['parameters'])"
   ]
  },
  {
   "cell_type": "code",
   "execution_count": 25,
   "metadata": {},
   "outputs": [
    {
     "data": {
      "text/plain": [
       "array([ -3.55327152,  -0.55327152,  -3.55327152,  -1.55327152,\n",
       "        -2.55327152,  -0.55327152,   0.44672848,   0.44672848,\n",
       "         0.44672848,  -0.55327152,  -0.55327152,   0.44672848,\n",
       "        -0.55327152,   0.44672848,   4.69732693,  -0.4279723 ,\n",
       "         3.5720277 ,   0.5720277 ,   1.69732693,   2.69732693,\n",
       "         3.69732693,   4.69732693,   3.69732693,   2.69732693,\n",
       "         0.5720277 ,   4.44672848,   4.44672848,   3.44672848,\n",
       "         5.44672848,   1.69732693,   0.69732693,   3.69732693,\n",
       "         3.69732693,   2.5720277 ,   5.5720277 ,   4.5720277 ,\n",
       "         2.5720277 ,   3.5720277 ,   0.44672848,   0.44672848,\n",
       "         0.44672848,   0.44672848,   2.44672848,   1.44672848,\n",
       "         1.44672848,   3.5720277 ,   6.69732693,   2.5720277 ,\n",
       "         3.5720277 ,   5.69732693,   0.69732693,  -1.30267307,\n",
       "        -1.30267307,  -2.30267307,  -6.30267307,   1.69732693,\n",
       "         2.69732693,   4.69732693,   3.69732693,   5.69732693,\n",
       "         8.69732693,   7.69732693,   1.44672848,   0.44672848,\n",
       "        -0.55327152,   0.44672848,  -2.55327152,   3.44672848,\n",
       "         1.44672848,   2.44672848,   1.44672848,  13.25997655,\n",
       "        -0.55327152,   1.44672848,   1.44672848,   0.44672848,\n",
       "        10.69732693,   6.69732693,   7.69732693,   2.69732693,\n",
       "         6.69732693,   0.69732693,   5.69732693,   0.69732693,\n",
       "         1.69732693,   1.44672848,   0.44672848,   1.44672848,\n",
       "         0.44672848,  -0.55327152,   2.44672848,   1.44672848,\n",
       "         1.44672848,   0.44672848,   1.44672848,   2.44672848,\n",
       "         1.44672848,   3.5720277 ,   5.5720277 ,   3.5720277 ,\n",
       "         3.5720277 ,  -1.4279723 ,   2.69732693,   3.44672848,\n",
       "         2.44672848,   1.44672848,   2.44672848,   3.5720277 ,\n",
       "         8.69732693,   7.69732693,   6.69732693,  14.25997655,\n",
       "         9.69732693,   0.5720277 ,   2.69732693,  -0.55327152,\n",
       "        -1.55327152,  -0.30267307,   4.69732693,   8.69732693,\n",
       "         9.69732693,  -0.55327152,   4.69732693,   1.5720277 ,\n",
       "         3.44672848,   1.5720277 ,   0.5720277 ,   2.5720277 ,\n",
       "         6.5720277 ,  -2.30267307,   2.69732693,  -3.30267307,\n",
       "         3.69732693,   5.5720277 ,   5.5720277 ,   3.5720277 ,\n",
       "        -1.55327152,   1.44672848,   0.44672848,   0.44672848,\n",
       "         0.44672848,  -0.30267307,   2.69732693,   2.69732693,\n",
       "        -2.30267307,  -3.30267307,   0.69732693,   4.69732693,\n",
       "         2.69732693,   4.69732693,   2.69732693,  -2.30267307,\n",
       "         2.5720277 ,   3.5720277 ,   6.5720277 ,   6.5720277 ,\n",
       "        -1.55327152,  -0.55327152,  -1.55327152,   0.44672848,\n",
       "         4.5720277 ,   5.5720277 ,   6.5720277 ,   3.5720277 ,\n",
       "         0.5720277 ,  -5.55327152,   1.44672848,  -0.30267307,\n",
       "         5.69732693,   1.5720277 ,   5.69732693,   4.69732693,\n",
       "         3.69732693,   4.69732693,   3.5720277 ,  -0.30267307,\n",
       "         2.5720277 ,   5.69732693,   5.69732693,   6.69732693,\n",
       "         3.69732693,  -4.30267307,   0.69732693,   3.69732693,\n",
       "         3.69732693,   2.69732693,   1.69732693,  -3.05327152,\n",
       "        -1.55327152,  -1.05327152,  -0.05327152,  -0.4279723 ,\n",
       "        -0.4279723 ,  -2.4279723 ,  -0.9279723 ,  -0.30267307,\n",
       "         4.19732693,  -0.30267307,  -4.30267307,   1.5720277 ,\n",
       "         3.5720277 ,   3.0720277 ,   4.0720277 ,  -0.80267307,\n",
       "        -3.30267307,   0.69732693,   2.19732693,   8.69732693,\n",
       "         1.44672848,   9.69732693,   2.5720277 ,   5.0720277 ,\n",
       "        -2.05327152,   1.44672848,   1.44672848,   1.44672848,\n",
       "        -2.80267307,  -1.30267307,  -7.30267307,   3.19732693,\n",
       "        -4.80267307,  -3.05327152,  -2.55327152,  -1.05327152,\n",
       "        -0.55327152,   4.0720277 ,   1.0720277 ,   2.5720277 ,\n",
       "         3.0720277 ,  -1.55327152,  -1.05327152,  -1.05327152,\n",
       "        -1.55327152,  -0.30267307,   4.19732693,   2.69732693,\n",
       "         3.19732693,  -1.80267307,  -4.80267307,  -1.30267307,\n",
       "        -1.80267307,  -0.4279723 ,   7.19732693,  10.75997655,\n",
       "       -14.40267307,  -7.40267307,  -4.10267307, -10.70267307,\n",
       "        -7.40267307,  -5.45327152,  -4.95327152,  -5.75327152,\n",
       "         2.3720277 ,   1.0720277 ,   1.3720277 ,   3.59732693,\n",
       "         1.0720277 ,   2.1720277 ,   0.9720277 ,   0.7720277 ,\n",
       "         2.9720277 ,   3.4720277 ,  -4.75327152,   3.8720277 ,\n",
       "        -3.65327152,  -3.05327152,  -1.30267307,   1.19732693,\n",
       "         1.49732693,  -2.20267307,   7.59732693,   5.49732693,\n",
       "         4.89732693,   4.79732693,   4.83467732,   4.5720277 ,\n",
       "         7.09732693,   5.3720277 ,  -2.80267307,  -0.80267307,\n",
       "         0.0720277 ,   1.7720277 ,   6.39732693,   1.3720277 ,\n",
       "         0.9720277 ,  -2.55327152,  -3.15327152,  -2.05327152,\n",
       "        -3.75327152,  -2.45327152,  -1.05327152,  -4.75327152,\n",
       "        -4.05327152,  -3.20267307,  -5.40267307,  -7.00267307,\n",
       "         1.29732693,  -0.26532268,  -8.55327152,   1.49732693,\n",
       "        -9.45327152,  -5.50267307,  -5.80267307,  -3.10267307,\n",
       "        -8.60267307,   0.29732693,  -7.2279723 ,  -5.2279723 ,\n",
       "        -4.80267307, -12.80267307,  -9.40267307,  -3.40267307,\n",
       "        -8.50267307,   0.69732693,   2.29732693,   4.39732693,\n",
       "         2.4720277 ,  -5.60267307,  -1.10267307,  -2.60267307,\n",
       "        -8.30267307,  -3.50267307, -17.90267307,   0.79732693,\n",
       "       -12.10267307, -15.60267307, -14.70267307, -11.26532268,\n",
       "        -1.30267307, -15.90267307, -12.20267307,  -5.10267307,\n",
       "        -1.10267307, -11.1279723 ,   8.55997655,  -6.30267307,\n",
       "         5.09732693,  -3.70267307,   1.49732693,   2.09732693,\n",
       "         2.89732693,  -1.9279723 ,  -1.30267307, -10.40267307,\n",
       "       -10.30267307,  -6.40267307,  -3.60267307,  -8.30267307,\n",
       "        -9.00267307,  -5.40267307,  -6.00267307,  -5.70267307,\n",
       "        -1.20267307,  -4.30267307,  -5.80267307,  -5.00267307,\n",
       "        -3.70267307,  -4.20267307,  -2.90267307,   0.59732693,\n",
       "        -9.1279723 ,  -3.8279723 ,  -2.6279723 ,  -0.8279723 ,\n",
       "       -12.15327152,   1.3720277 ,   3.9720277 ,   0.69732693,\n",
       "         1.69732693,  -5.30267307,  -2.30267307,  -0.30267307,\n",
       "         1.69732693,   4.69732693,   5.69732693,  -7.30267307,\n",
       "        -8.30267307,  -2.30267307,  -9.30267307,  -7.30267307,\n",
       "        -7.30267307,  -7.30267307,  -5.30267307,  -9.30267307,\n",
       "        -3.30267307,  -9.30267307,  -3.4279723 , -16.4279723 ,\n",
       "         2.69732693,  -0.4279723 ,  -3.30267307,  -7.30267307,\n",
       "         1.69732693,   1.69732693, -15.30267307,  -3.30267307,\n",
       "         0.69732693,  -2.30267307])"
      ]
     },
     "execution_count": 25,
     "metadata": {},
     "output_type": "execute_result"
    }
   ],
   "source": [
    "preds-y"
   ]
  },
  {
   "cell_type": "markdown",
   "metadata": {},
   "source": [
    "### Linear Classifier\n",
    "- Undrestand log-loss (https://web.stanford.edu/~jurafsky/slp3/5.pdf)\n",
    "- Build a simple class that can minimize log-loss for a linear classifier"
   ]
  },
  {
   "cell_type": "markdown",
   "metadata": {},
   "source": [
    "The loss function of logistic regression is $-[ylog(p)+(1-y)log(1-p)]$, refer to result 5.9 (https://web.stanford.edu/~jurafsky/slp3/5.pdf)\n",
    "\n",
    "The gradient for the loss function is: $X^T(P-y)=X^T(\\sigma(XW)-y)$\n",
    "\n",
    "Finally the gradient update will be:\n",
    "- $W_{new}=W_{old}-\\eta X^T(\\sigma(XW)-y)$"
   ]
  },
  {
   "cell_type": "code",
   "execution_count": 26,
   "metadata": {},
   "outputs": [],
   "source": [
    "class LogisticRegression():\n",
    "    def __init__(self,X,y):\n",
    "        self.X=X\n",
    "        self.y=y\n",
    "        self.w=np.zeros((self.X.shape[1],))\n",
    "    def _gradient(self,X,w,y):\n",
    "        z=np.matmul(X,w)\n",
    "        sigma=1/(1+np.exp(-z))\n",
    "        A=np.transpose(X)\n",
    "        B=sigma-y\n",
    "        return np.matmul(A,B)\n",
    "    def loss(self,X,w,y):\n",
    "        delta=0.000001\n",
    "        z=np.matmul(X,w)\n",
    "        p=1/(1+np.exp(-z))\n",
    "        l=(-(np.log(p+delta)*y+(1-y)*np.log(1-p+delta))).mean()\n",
    "        return l\n",
    "    def _fit(self,n_iter,eta):\n",
    "        logloss=[]\n",
    "        w=self.w\n",
    "        for i in range(n_iter):\n",
    "            iterations=i\n",
    "            grad=self._gradient(self.X,w,self.y)\n",
    "            w_new=w-eta*grad\n",
    "            w=w_new\n",
    "            logloss.append(self.loss(self.X,w,self.y))\n",
    "            if i>2:\n",
    "                if abs(logloss[i]-logloss[i-1])<0.0000000001:\n",
    "                    break\n",
    "        results={'parameters':w}\n",
    "        return results,iterations,logloss\n",
    "    def fit(self,n_iter,eta):\n",
    "        eta=np.array(eta)\n",
    "        results,iterations,logloss=self._fit(n_iter,eta)\n",
    "        self.iter=iterations\n",
    "        self.logloss=logloss\n",
    "        self.results=results\n",
    "        return results"
   ]
  },
  {
   "cell_type": "code",
   "execution_count": 27,
   "metadata": {},
   "outputs": [
    {
     "data": {
      "text/html": [
       "<div>\n",
       "<style scoped>\n",
       "    .dataframe tbody tr th:only-of-type {\n",
       "        vertical-align: middle;\n",
       "    }\n",
       "\n",
       "    .dataframe tbody tr th {\n",
       "        vertical-align: top;\n",
       "    }\n",
       "\n",
       "    .dataframe thead th {\n",
       "        text-align: right;\n",
       "    }\n",
       "</style>\n",
       "<table border=\"1\" class=\"dataframe\">\n",
       "  <thead>\n",
       "    <tr style=\"text-align: right;\">\n",
       "      <th></th>\n",
       "      <th>No_pregnant</th>\n",
       "      <th>Plasma_glucose</th>\n",
       "      <th>Blood_pres</th>\n",
       "      <th>Skin_thick</th>\n",
       "      <th>Serum_insu</th>\n",
       "      <th>BMI</th>\n",
       "      <th>Diabetes_func</th>\n",
       "      <th>Age</th>\n",
       "      <th>Class</th>\n",
       "    </tr>\n",
       "  </thead>\n",
       "  <tbody>\n",
       "    <tr>\n",
       "      <th>0</th>\n",
       "      <td>6</td>\n",
       "      <td>148</td>\n",
       "      <td>72</td>\n",
       "      <td>35</td>\n",
       "      <td>0</td>\n",
       "      <td>33.6</td>\n",
       "      <td>0.627</td>\n",
       "      <td>50</td>\n",
       "      <td>1</td>\n",
       "    </tr>\n",
       "    <tr>\n",
       "      <th>1</th>\n",
       "      <td>1</td>\n",
       "      <td>85</td>\n",
       "      <td>66</td>\n",
       "      <td>29</td>\n",
       "      <td>0</td>\n",
       "      <td>26.6</td>\n",
       "      <td>0.351</td>\n",
       "      <td>31</td>\n",
       "      <td>0</td>\n",
       "    </tr>\n",
       "  </tbody>\n",
       "</table>\n",
       "</div>"
      ],
      "text/plain": [
       "   No_pregnant  Plasma_glucose  Blood_pres  Skin_thick  Serum_insu   BMI  \\\n",
       "0            6             148          72          35           0  33.6   \n",
       "1            1              85          66          29           0  26.6   \n",
       "\n",
       "   Diabetes_func  Age  Class  \n",
       "0          0.627   50      1  \n",
       "1          0.351   31      0  "
      ]
     },
     "execution_count": 27,
     "metadata": {},
     "output_type": "execute_result"
    }
   ],
   "source": [
    "data=pd.read_csv(\"data/classification.csv\")\n",
    "data.head(2)"
   ]
  },
  {
   "cell_type": "code",
   "execution_count": 28,
   "metadata": {},
   "outputs": [],
   "source": [
    "X=data[['No_pregnant']].copy()\n",
    "X['intercept']=1\n",
    "X=X[['intercept','No_pregnant']]\n",
    "y=data['Class']\n",
    "X=X.values\n",
    "y=y.values"
   ]
  },
  {
   "cell_type": "code",
   "execution_count": 29,
   "metadata": {},
   "outputs": [],
   "source": [
    "clf=LogisticRegression(X,y)"
   ]
  },
  {
   "cell_type": "code",
   "execution_count": 30,
   "metadata": {},
   "outputs": [
    {
     "data": {
      "text/plain": [
       "{'parameters': array([-1.17658058,  0.13716497])}"
      ]
     },
     "execution_count": 30,
     "metadata": {},
     "output_type": "execute_result"
    }
   ],
   "source": [
    "clf.fit(n_iter=1000,eta=[0.01,0.0001])"
   ]
  },
  {
   "cell_type": "code",
   "execution_count": 31,
   "metadata": {},
   "outputs": [
    {
     "data": {
      "text/plain": [
       "[<matplotlib.lines.Line2D at 0x11a90b550>]"
      ]
     },
     "execution_count": 31,
     "metadata": {},
     "output_type": "execute_result"
    },
    {
     "data": {
      "image/png": "[encoded data removed]",
      "text/plain": [
       "<Figure size 432x288 with 1 Axes>"
      ]
     },
     "metadata": {
      "needs_background": "light"
     },
     "output_type": "display_data"
    }
   ],
   "source": [
    "plt.plot(range(clf.iter+1),clf.logloss,\"*\")"
   ]
  },
  {
   "cell_type": "markdown",
   "metadata": {},
   "source": [
    "Actual parameter estimates beta=-1.17675,beta1=0.13716 using a standard implimentation"
   ]
  },
  {
   "cell_type": "markdown",
   "metadata": {},
   "source": [
    "Once we estimate parameters, of a model we may want to understand how good or bad a job we are doing at making predictions. We can get probability estimates from the model and try to find:\n",
    "- Accuracy\n",
    "- Confusion Matrix\n",
    "- AUC\n",
    "\n",
    "We will first create an inference function, we will use the computed weights and make preidctions"
   ]
  },
  {
   "cell_type": "code",
   "execution_count": 32,
   "metadata": {},
   "outputs": [],
   "source": [
    "def predict(X,w):\n",
    "    z=np.matmul(X,w)\n",
    "    probs=1/(1+np.exp(-z))\n",
    "    return probs\n",
    "p=predict(X,clf.results['parameters'])"
   ]
  },
  {
   "cell_type": "code",
   "execution_count": 33,
   "metadata": {},
   "outputs": [
    {
     "data": {
      "text/plain": [
       "0.6640625"
      ]
     },
     "execution_count": 33,
     "metadata": {},
     "output_type": "execute_result"
    }
   ],
   "source": [
    "p_labels=pd.Series(p).map(lambda x:1 if x>0.5 else 0)\n",
    "(p_labels.values==y).mean()"
   ]
  },
  {
   "cell_type": "code",
   "execution_count": 34,
   "metadata": {},
   "outputs": [
    {
     "data": {
      "text/plain": [
       "array([[462,  38],\n",
       "       [220,  48]])"
      ]
     },
     "execution_count": 34,
     "metadata": {},
     "output_type": "execute_result"
    }
   ],
   "source": [
    "from sklearn.metrics import confusion_matrix,roc_auc_score\n",
    "confusion_matrix(y,p_labels)"
   ]
  },
  {
   "cell_type": "code",
   "execution_count": 35,
   "metadata": {},
   "outputs": [
    {
     "data": {
      "text/plain": [
       "0.6195149253731344"
      ]
     },
     "execution_count": 35,
     "metadata": {},
     "output_type": "execute_result"
    }
   ],
   "source": [
    "roc_auc_score(y,p)"
   ]
  },
  {
   "cell_type": "markdown",
   "metadata": {},
   "source": [
    "As far as linear classifiers are concerned, we may want to extend them to be able to do multiclass, classification. We can do this by making changes to the:\n",
    "- Logistic Function, make it more generalizable\n",
    "- Logitsic Cost Functon,make it more generalizable\n",
    "\n",
    "Instead of using logistic function, we use softmax function to give probability score for each class (5.31, https://web.stanford.edu/~jurafsky/slp3/5.pdf ). To compute the loss, cross entropy loss is used (5.32, https://web.stanford.edu/~jurafsky/slp3/5.pdf)\n",
    "\n",
    "The matrix formulation for this will be $X\\times W$, where $X$ will be $r\\times m$ and $W$ will be $m\\times k$, where:\n",
    "- r, number of rows in the predictor matrix\n",
    "- m, number of predictors in the model\n",
    "- k, number of classes"
   ]
  },
  {
   "cell_type": "code",
   "execution_count": 36,
   "metadata": {},
   "outputs": [],
   "source": [
    "X=np.array([[1,0.2],[1,0.3],[1,0.4]])\n",
    "y=np.array([0,1,2])"
   ]
  },
  {
   "cell_type": "code",
   "execution_count": 37,
   "metadata": {},
   "outputs": [
    {
     "data": {
      "text/plain": [
       "array([[1. , 0.2],\n",
       "       [1. , 0.3],\n",
       "       [1. , 0.4]])"
      ]
     },
     "execution_count": 37,
     "metadata": {},
     "output_type": "execute_result"
    }
   ],
   "source": [
    "X"
   ]
  },
  {
   "cell_type": "code",
   "execution_count": 38,
   "metadata": {},
   "outputs": [],
   "source": [
    "def softmax(X,y):\n",
    "    n_class=len(set(y))\n",
    "    w=np.ones((X.shape[1],n_class))\n",
    "    z=np.matmul(X,w)\n",
    "    e_z=np.exp(z)\n",
    "    return e_z/e_z.sum(axis=1,keepdims=True)"
   ]
  },
  {
   "cell_type": "code",
   "execution_count": 39,
   "metadata": {},
   "outputs": [
    {
     "data": {
      "text/plain": [
       "array([0, 1, 2])"
      ]
     },
     "execution_count": 39,
     "metadata": {},
     "output_type": "execute_result"
    }
   ],
   "source": [
    "y"
   ]
  },
  {
   "cell_type": "code",
   "execution_count": 40,
   "metadata": {},
   "outputs": [
    {
     "data": {
      "text/plain": [
       "array([0.33333333, 0.33333333, 0.33333333])"
      ]
     },
     "execution_count": 40,
     "metadata": {},
     "output_type": "execute_result"
    }
   ],
   "source": [
    "softmax(X,y)[range(y.shape[0]),y]"
   ]
  },
  {
   "cell_type": "code",
   "execution_count": 41,
   "metadata": {},
   "outputs": [],
   "source": [
    "def cross_entropy(softmax,y):\n",
    "    loss=-np.log(softmax[range(y.shape[0]),y])\n",
    "    loss=np.sum(loss)/y.shape[0]\n",
    "    return loss"
   ]
  },
  {
   "cell_type": "code",
   "execution_count": 42,
   "metadata": {},
   "outputs": [
    {
     "data": {
      "text/plain": [
       "1.0986122886681098"
      ]
     },
     "execution_count": 42,
     "metadata": {},
     "output_type": "execute_result"
    }
   ],
   "source": [
    "cross_entropy(softmax(X,y),y)"
   ]
  },
  {
   "cell_type": "code",
   "execution_count": null,
   "metadata": {},
   "outputs": [],
   "source": []
  },
  {
   "cell_type": "code",
   "execution_count": null,
   "metadata": {},
   "outputs": [],
   "source": []
  }
 ],
 "metadata": {
  "kernelspec": {
   "display_name": "Python 3",
   "language": "python",
   "name": "python3"
  },
  "language_info": {
   "codemirror_mode": {
    "name": "ipython",
    "version": 3
   },
   "file_extension": ".py",
   "mimetype": "text/x-python",
   "name": "python",
   "nbconvert_exporter": "python",
   "pygments_lexer": "ipython3",
   "version": "3.7.6"
  }
 },
 "nbformat": 4,
 "nbformat_minor": 2
}
